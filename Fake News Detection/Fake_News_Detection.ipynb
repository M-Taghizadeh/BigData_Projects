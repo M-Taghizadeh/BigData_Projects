{
 "cells": [
  {
   "cell_type": "markdown",
   "metadata": {},
   "source": [
    "# Detecting Fake News with Python and Machine Learning"
   ]
  },
  {
   "cell_type": "markdown",
   "metadata": {},
   "source": [
    "- Do you trust all the news you hear from social media? All news are not real, right?\n",
    "\n",
    "- How will you detect fake news? The answer is Python. \n",
    "\n",
    "- By practicing this advanced python project of detecting fake news, you will easily make a difference between real and fake news."
   ]
  },
  {
   "cell_type": "markdown",
   "metadata": {},
   "source": [
    "A type of yellow journalism, fake news encapsulates pieces of news that may be hoaxes and is generally spread through social media and other online media. This is often done to further or impose certain ideas and is often achieved with political agendas. Such news items may contain false and/or exaggerated claims, and may end up being viralized by algorithms, and users may end up in a filter bubble."
   ]
  },
  {
   "cell_type": "markdown",
   "metadata": {},
   "source": [
    "## Getting Started \n",
    "\n",
    "This advanced python project of detecting fake news deals with fake and real news. Using sklearn, we build a TfidfVectorizer on our dataset. Then, we initialize a PassiveAggressive Classifier and fit the model. In the end, the accuracy score and the confusion matrix tell us how well our model fares"
   ]
  },
  {
   "cell_type": "markdown",
   "metadata": {},
   "source": [
    "## The fake news Dataset"
   ]
  },
  {
   "cell_type": "markdown",
   "metadata": {},
   "source": [
    "The dataset we’ll use for this python project- we’ll call it **news.csv** This dataset has a shape of 6335×4. The first column identifies the news, the second and third are the title and text, and the fourth column has labels denoting whether the news is **REAL** or **FAKE**. The dataset takes up 29.2MB of space and you can [download it here](https://drive.google.com/file/d/1er9NJTLUA3qnRuyhfzuN0XUsoIC4a-_q/view) also you can download it from this github repository."
   ]
  },
  {
   "cell_type": "code",
   "execution_count": null,
   "metadata": {},
   "outputs": [],
   "source": [
    "! pip install numpy pandas sklearn"
   ]
  },
  {
   "cell_type": "code",
   "execution_count": 264,
   "metadata": {},
   "outputs": [],
   "source": [
    "import numpy as np\n",
    "import pandas as pd\n",
    "import itertools\n",
    "from sklearn.model_selection import train_test_split\n",
    "from sklearn.feature_extraction.text import TfidfVectorizer\n",
    "from sklearn.linear_model import PassiveAggressiveClassifier\n",
    "from sklearn.metrics import accuracy_score, confusion_matrix"
   ]
  },
  {
   "cell_type": "markdown",
   "metadata": {},
   "source": [
    "## Reading Dataframe"
   ]
  },
  {
   "cell_type": "code",
   "execution_count": 268,
   "metadata": {},
   "outputs": [
    {
     "name": "stdout",
     "output_type": "stream",
     "text": [
      "(6335, 4)\n"
     ]
    },
    {
     "data": {
      "text/html": [
       "<div>\n",
       "<style scoped>\n",
       "    .dataframe tbody tr th:only-of-type {\n",
       "        vertical-align: middle;\n",
       "    }\n",
       "\n",
       "    .dataframe tbody tr th {\n",
       "        vertical-align: top;\n",
       "    }\n",
       "\n",
       "    .dataframe thead th {\n",
       "        text-align: right;\n",
       "    }\n",
       "</style>\n",
       "<table border=\"1\" class=\"dataframe\">\n",
       "  <thead>\n",
       "    <tr style=\"text-align: right;\">\n",
       "      <th></th>\n",
       "      <th>Unnamed: 0</th>\n",
       "      <th>title</th>\n",
       "      <th>text</th>\n",
       "      <th>label</th>\n",
       "    </tr>\n",
       "  </thead>\n",
       "  <tbody>\n",
       "    <tr>\n",
       "      <th>0</th>\n",
       "      <td>8476</td>\n",
       "      <td>You Can Smell Hillary’s Fear</td>\n",
       "      <td>Daniel Greenfield, a Shillman Journalism Fello...</td>\n",
       "      <td>FAKE</td>\n",
       "    </tr>\n",
       "    <tr>\n",
       "      <th>1</th>\n",
       "      <td>10294</td>\n",
       "      <td>Watch The Exact Moment Paul Ryan Committed Pol...</td>\n",
       "      <td>Google Pinterest Digg Linkedin Reddit Stumbleu...</td>\n",
       "      <td>FAKE</td>\n",
       "    </tr>\n",
       "    <tr>\n",
       "      <th>2</th>\n",
       "      <td>3608</td>\n",
       "      <td>Kerry to go to Paris in gesture of sympathy</td>\n",
       "      <td>U.S. Secretary of State John F. Kerry said Mon...</td>\n",
       "      <td>REAL</td>\n",
       "    </tr>\n",
       "    <tr>\n",
       "      <th>3</th>\n",
       "      <td>10142</td>\n",
       "      <td>Bernie supporters on Twitter erupt in anger ag...</td>\n",
       "      <td>— Kaydee King (@KaydeeKing) November 9, 2016 T...</td>\n",
       "      <td>FAKE</td>\n",
       "    </tr>\n",
       "    <tr>\n",
       "      <th>4</th>\n",
       "      <td>875</td>\n",
       "      <td>The Battle of New York: Why This Primary Matters</td>\n",
       "      <td>It's primary day in New York and front-runners...</td>\n",
       "      <td>REAL</td>\n",
       "    </tr>\n",
       "  </tbody>\n",
       "</table>\n",
       "</div>"
      ],
      "text/plain": [
       "   Unnamed: 0                                              title  \\\n",
       "0        8476                       You Can Smell Hillary’s Fear   \n",
       "1       10294  Watch The Exact Moment Paul Ryan Committed Pol...   \n",
       "2        3608        Kerry to go to Paris in gesture of sympathy   \n",
       "3       10142  Bernie supporters on Twitter erupt in anger ag...   \n",
       "4         875   The Battle of New York: Why This Primary Matters   \n",
       "\n",
       "                                                text label  \n",
       "0  Daniel Greenfield, a Shillman Journalism Fello...  FAKE  \n",
       "1  Google Pinterest Digg Linkedin Reddit Stumbleu...  FAKE  \n",
       "2  U.S. Secretary of State John F. Kerry said Mon...  REAL  \n",
       "3  — Kaydee King (@KaydeeKing) November 9, 2016 T...  FAKE  \n",
       "4  It's primary day in New York and front-runners...  REAL  "
      ]
     },
     "execution_count": 268,
     "metadata": {},
     "output_type": "execute_result"
    }
   ],
   "source": [
    "df = pd.read_csv('news.csv')\n",
    "\n",
    "# Get shape and hea.d\n",
    "print(df.shape)\n",
    "df.head()"
   ]
  },
  {
   "cell_type": "markdown",
   "metadata": {},
   "source": [
    "### Get the labels"
   ]
  },
  {
   "cell_type": "code",
   "execution_count": 269,
   "metadata": {},
   "outputs": [
    {
     "data": {
      "text/plain": [
       "0    FAKE\n",
       "1    FAKE\n",
       "2    REAL\n",
       "3    FAKE\n",
       "4    REAL\n",
       "Name: label, dtype: object"
      ]
     },
     "execution_count": 269,
     "metadata": {},
     "output_type": "execute_result"
    }
   ],
   "source": [
    "labels = df.label\n",
    "labels.head()"
   ]
  },
  {
   "cell_type": "markdown",
   "metadata": {},
   "source": [
    "### Split the dataset to train and test"
   ]
  },
  {
   "cell_type": "code",
   "execution_count": 270,
   "metadata": {},
   "outputs": [],
   "source": [
    "x_train, x_test, y_train, y_test = train_test_split(df['text'], labels, test_size=0.2, random_state=7)"
   ]
  },
  {
   "cell_type": "markdown",
   "metadata": {},
   "source": [
    "### lets see one of the samples in training set"
   ]
  },
  {
   "cell_type": "code",
   "execution_count": 256,
   "metadata": {},
   "outputs": [
    {
     "name": "stdout",
     "output_type": "stream",
     "text": [
      "News Text:    Donald Trump Wins The Presidency In Historic Mandate Victory As Hillary Clinton Concedes Reaction to the prospect of a Trump presidency rippled across the globe, with financial markets abroad falling as American television networks raised the prospect that Mrs. Clinton might lose. Asian markets were trading sharply lower, down around two percentage points, and in the United States, Dow Jones futures were down as much as 600 points in after-hours trading.   The American people have voted, Donald Trump is president, and the world is in shock \n",
      "“And he changeth the times and the seasons: he removeth kings, and setteth up kings: he giveth wisdom unto the wise, and knowledge to them that know understanding:” Daniel 2:21 (KJV) Tonight. the God of Abraham, Isaac and Jacob spoke quite loudly. Change like this country has never seen, like the world has never seen, has arrived at our doorstep. President Trump has been elected leader of the free world . People, you better buckle up because things are about to become unglued. For well over a year now, we here at NTEB have been telling you that Donald Trump is God’s man for the White House, and that Bible prophecy would be fulfilled in the process. Two very eye-opening articles you need to read are The Real Reason Why Donald Trump Was Chosen To Be The Republican Candidate For President and Why A Bible Believer Is Supporting Donald Trump For President Of The United States . I wrote those articles on May 4 and February 13, respectively. Are YOU ready for what comes next? The liberal news media certainly does not seem to be ready, in fact, they seem to be in quite the state of shock as you can see below. The NYT declared just after 11:30 p.m, Donald Trump was declared the victor in Florida , earning him the state’s 29 electoral votes and giving him a more certain grip on the presidential contest with Mrs. Clinton. How the world is reacting to Trump’s victory: Reaction to the prospect of a Trump presidency rippled across the globe , with financial markets abroad falling as American television networks raised the prospect that Mrs. Clinton might lose. Asian markets were trading sharply lower, down around two percentage points, and in the United States, Dow Jones futures were down as much as 600 points in after-hours trading. CNN: This Sea of Red Has Got to Make You Feel Better Fox News projects: Donald Trump wins FL, Clinton wins CA Chris Wallace: Trump could be our next president Donald Trump wins Florida, CNN projects: \n",
      "Get ready for momentous change like this country has never seen, and while you do that, get ready for the fulfillment of Bible prophecy. \n",
      "Because it’s coming…  \n",
      "Label: FAKE\n"
     ]
    }
   ],
   "source": [
    "print(\"News Text: \", x_train.get(1000))\n",
    "print(\"Label:\", y_train.get(1000))"
   ]
  },
  {
   "cell_type": "markdown",
   "metadata": {},
   "source": [
    "### Shape of training and test sets"
   ]
  },
  {
   "cell_type": "code",
   "execution_count": 271,
   "metadata": {},
   "outputs": [
    {
     "name": "stdout",
     "output_type": "stream",
     "text": [
      "(5068,) (1267,)\n"
     ]
    }
   ],
   "source": [
    "print(x_train.shape, x_test.shape)"
   ]
  },
  {
   "cell_type": "markdown",
   "metadata": {},
   "source": [
    "## TfidfVectorizer\n",
    "\n",
    "TF (Term Frequency): The number of times a word appears in a document is its Term Frequency. A higher value means a term appears more often than others, and so, the document is a good match when the term is part of the search terms.\n",
    "\n",
    "IDF (Inverse Document Frequency): Words that occur many times a document, but also occur many times in many others, may be irrelevant. IDF is a measure of how significant a term is in the entire corpus.\n",
    "\n",
    "- The TfidfVectorizer converts a collection of raw documents into a matrix of TF-IDF features."
   ]
  },
  {
   "cell_type": "code",
   "execution_count": 272,
   "metadata": {},
   "outputs": [],
   "source": [
    "# Initialize a TfidfVectorizer\n",
    "tfidf_vectorizer = TfidfVectorizer(stop_words='english', max_df=0.7)\n",
    "\n",
    "# Fit and transform train set, transform test set\n",
    "tfidf_train = tfidf_vectorizer.fit_transform(x_train) \n",
    "tfidf_test = tfidf_vectorizer.transform(x_test)"
   ]
  },
  {
   "cell_type": "markdown",
   "metadata": {},
   "source": [
    "## PassiveAggressiveClassifier \n",
    "\n",
    "Passive Aggressive algorithms are online learning algorithms. Such an algorithm remains passive for a correct classification outcome, and turns aggressive in the event of a miscalculation, updating and adjusting. Unlike most other algorithms, it does not converge. Its purpose is to make updates that correct the loss, causing very little change in the norm of the weight vector."
   ]
  },
  {
   "cell_type": "code",
   "execution_count": 315,
   "metadata": {},
   "outputs": [
    {
     "name": "stdout",
     "output_type": "stream",
     "text": [
      "Accuracy: 93.13%\n"
     ]
    }
   ],
   "source": [
    "# Initialize a PassiveAggressiveClassifier\n",
    "pac = PassiveAggressiveClassifier(max_iter=50)\n",
    "pac.fit(tfidf_train, y_train)\n",
    "\n",
    "# Predict on the test set and calculate accuracy\n",
    "y_pred = pac.predict(tfidf_test)\n",
    "score = accuracy_score(y_test, y_pred)\n",
    "print(f'Accuracy: {round(score*100, 2)}%')"
   ]
  },
  {
   "cell_type": "markdown",
   "metadata": {},
   "source": [
    "### Building the Confusion Matrix"
   ]
  },
  {
   "cell_type": "code",
   "execution_count": 316,
   "metadata": {},
   "outputs": [
    {
     "data": {
      "text/plain": [
       "array([[593,  45],\n",
       "       [ 42, 587]], dtype=int64)"
      ]
     },
     "execution_count": 316,
     "metadata": {},
     "output_type": "execute_result"
    }
   ],
   "source": [
    "confusion_matrix(y_test, y_pred, labels=['FAKE', 'REAL'])"
   ]
  },
  {
   "cell_type": "markdown",
   "metadata": {},
   "source": [
    "### Testing by some of sample (Fake and Real News)"
   ]
  },
  {
   "cell_type": "code",
   "execution_count": 317,
   "metadata": {},
   "outputs": [
    {
     "data": {
      "text/plain": [
       "4368    Democrats seem poised to choose their next pre...\n",
       "4680    posted by Eddie A list of secret Apple iPhone ...\n",
       "2497    Thu, 27 Oct 2016 15:29 UTC The United States h...\n",
       "2667    As faith in American institutions falls, voter...\n",
       "3251    As Republicans jockey for their party’s top sp...\n",
       "117     APOCALYPSE NOW: Trump Voters Warn Of ‘Revoluti...\n",
       "1591    Belgian authorities missed a chance to press a...\n",
       "2254    With House Republicans pushing for a governmen...\n",
       "868     The speech Israeli Prime Minister Benjamin Net...\n",
       "94      A third suspect has turned himself in. Prime M...\n",
       "1115    By Tom Engelhardt, a co-founder of the America...\n",
       "663     Fox Business News aired two GOP presidential d...\n",
       "1644    Food mixology: When eaten together, these food...\n",
       "4166    Maryland Gov. Larry Hogan (R) on Wednesday rej...\n",
       "1845    October 28, 2016 at 10:00 am \\nOMG, a Confeder...\n",
       "5606    November 10, 2016 Long-term Effects of the Pre...\n",
       "1674    Pinterest \\nDemocrat presidential nominee Hill...\n",
       "807     Part 1 BABYLON \"SUN WORSHIP\" https://www.youtu...\n",
       "4929    Wed, 26 Oct 2016 21:49 UTC © Naif Rahma / Reut...\n",
       "5499    Share on Twitter \\nEarlier this week, someone ...\n",
       "Name: text, dtype: object"
      ]
     },
     "execution_count": 317,
     "metadata": {},
     "output_type": "execute_result"
    }
   ],
   "source": [
    "test_cases = x_test[490:510]\n",
    "test_cases"
   ]
  },
  {
   "cell_type": "code",
   "execution_count": 318,
   "metadata": {},
   "outputs": [
    {
     "data": {
      "text/plain": [
       "4368    REAL\n",
       "4680    FAKE\n",
       "2497    FAKE\n",
       "2667    REAL\n",
       "3251    REAL\n",
       "117     FAKE\n",
       "1591    REAL\n",
       "2254    REAL\n",
       "868     REAL\n",
       "94      REAL\n",
       "1115    FAKE\n",
       "663     REAL\n",
       "1644    FAKE\n",
       "4166    REAL\n",
       "1845    FAKE\n",
       "5606    FAKE\n",
       "1674    FAKE\n",
       "807     FAKE\n",
       "4929    FAKE\n",
       "5499    FAKE\n",
       "Name: label, dtype: object"
      ]
     },
     "execution_count": 318,
     "metadata": {},
     "output_type": "execute_result"
    }
   ],
   "source": [
    "test_cases_labels = y_test[490:510]\n",
    "test_cases_labels"
   ]
  },
  {
   "cell_type": "code",
   "execution_count": 319,
   "metadata": {},
   "outputs": [
    {
     "name": "stdout",
     "output_type": "stream",
     "text": [
      "Real Label: REAL FAKE FAKE REAL REAL FAKE REAL REAL REAL REAL FAKE REAL FAKE REAL FAKE FAKE FAKE FAKE FAKE FAKE \n",
      "Predicted : REAL FAKE FAKE REAL REAL FAKE REAL REAL REAL REAL FAKE REAL FAKE REAL FAKE FAKE FAKE FAKE FAKE FAKE "
     ]
    }
   ],
   "source": [
    "tfidf_test = tfidf_vectorizer.transform(test_cases)\n",
    "predicted_labels = pac.predict(tfidf_test)\n",
    "\n",
    "print(\"Real Label: \", end=\"\")\n",
    "for item in test_cases_labels: print(item, end=\" \")\n",
    "print(\"\\nPredicted : \", end=\"\")\n",
    "for item in predicted_labels: print(item, end=\" \")"
   ]
  }
 ],
 "metadata": {
  "kernelspec": {
   "display_name": "Python 3.9.12 ('base')",
   "language": "python",
   "name": "python3"
  },
  "language_info": {
   "codemirror_mode": {
    "name": "ipython",
    "version": 3
   },
   "file_extension": ".py",
   "mimetype": "text/x-python",
   "name": "python",
   "nbconvert_exporter": "python",
   "pygments_lexer": "ipython3",
   "version": "3.9.12"
  },
  "orig_nbformat": 4,
  "vscode": {
   "interpreter": {
    "hash": "ca2def1b9e8aedfa991e7a1cb37508b48ad3956d8615a6e2a1c5b4e03c0d1558"
   }
  }
 },
 "nbformat": 4,
 "nbformat_minor": 2
}
