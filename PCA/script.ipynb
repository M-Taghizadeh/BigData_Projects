{
 "cells": [
  {
   "cell_type": "code",
   "execution_count": 1,
   "metadata": {},
   "outputs": [],
   "source": [
    "import numpy as np\n",
    "import pandas as pd \n",
    "from sklearn.decomposition import PCA"
   ]
  },
  {
   "cell_type": "code",
   "execution_count": 2,
   "metadata": {},
   "outputs": [],
   "source": [
    "dataset = np.matrix([[1, 2, 3, 4],\n",
    "                    [5, 5, 6, 7],\n",
    "                    [1, 4, 2, 3],\n",
    "                    [5, 3, 2, 1],\n",
    "                    [8, 1, 2, 2]])   "
   ]
  },
  {
   "cell_type": "code",
   "execution_count": 3,
   "metadata": {},
   "outputs": [],
   "source": [
    "df = pd.DataFrame(dataset, columns=[\"F1\", \"F2\", \"F3\", \"F4\"])\n",
    "df_std = (df - df.mean()) / (df.std())\n",
    "n_components = 2"
   ]
  },
  {
   "cell_type": "code",
   "execution_count": 4,
   "metadata": {},
   "outputs": [
    {
     "name": "stdout",
     "output_type": "stream",
     "text": [
      "     new_f1    new_f2\n",
      "0 -0.014003  0.755975\n",
      "1  2.556534 -0.780432\n",
      "2  0.051480  1.253135\n",
      "3 -1.014150  0.000239\n",
      "4 -1.579861 -1.228917\n"
     ]
    }
   ],
   "source": [
    "pca = PCA(n_components=n_components)\n",
    "principal_components = pca.fit_transform(df_std)\n",
    "principal_df = pd.DataFrame(data=principal_components, columns=['new_f'+str(i+1) for i in range(n_components)])\n",
    "print(principal_df)"
   ]
  }
 ],
 "metadata": {
  "kernelspec": {
   "display_name": "Python 3.9.12 ('base')",
   "language": "python",
   "name": "python3"
  },
  "language_info": {
   "codemirror_mode": {
    "name": "ipython",
    "version": 3
   },
   "file_extension": ".py",
   "mimetype": "text/x-python",
   "name": "python",
   "nbconvert_exporter": "python",
   "pygments_lexer": "ipython3",
   "version": "3.9.12"
  },
  "orig_nbformat": 4,
  "vscode": {
   "interpreter": {
    "hash": "ca2def1b9e8aedfa991e7a1cb37508b48ad3956d8615a6e2a1c5b4e03c0d1558"
   }
  }
 },
 "nbformat": 4,
 "nbformat_minor": 2
}
